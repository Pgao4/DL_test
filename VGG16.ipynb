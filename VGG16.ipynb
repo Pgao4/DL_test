{
  "nbformat": 4,
  "nbformat_minor": 0,
  "metadata": {
    "colab": {
      "name": "VGG16.ipynb",
      "provenance": [],
      "collapsed_sections": [],
      "include_colab_link": true
    },
    "kernelspec": {
      "name": "python3",
      "display_name": "Python 3"
    }
  },
  "cells": [
    {
      "cell_type": "markdown",
      "metadata": {
        "id": "view-in-github",
        "colab_type": "text"
      },
      "source": [
        "<a href=\"https://colab.research.google.com/github/Pgao4/DL_test/blob/main/VGG16.ipynb\" target=\"_parent\"><img src=\"https://colab.research.google.com/assets/colab-badge.svg\" alt=\"Open In Colab\"/></a>"
      ]
    },
    {
      "cell_type": "markdown",
      "metadata": {
        "id": "JdWyEKTLopPT"
      },
      "source": [
        "This is a very simple example of using VGG16 in TensorFlow and Keras to classify a image."
      ]
    },
    {
      "cell_type": "markdown",
      "metadata": {
        "id": "vxBidPIGs15N"
      },
      "source": [
        "Load TensorFlow, Keras, VGG16 and Python libraries."
      ]
    },
    {
      "cell_type": "code",
      "metadata": {
        "id": "6cjlILGdoTII"
      },
      "source": [
        "# %tensorflow_version 2.x\n",
        "import tensorflow as tf\n",
        "from tensorflow import keras\n",
        "from keras.preprocessing.image import load_img\n",
        "from keras.preprocessing.image import img_to_array\n",
        "from keras.applications.vgg16 import preprocess_input\n",
        "from keras.applications.vgg16 import decode_predictions\n",
        "from keras.applications.vgg16 import VGG16\n",
        "import numpy as np\n",
        "import matplotlib.pyplot as plt\n",
        "print(tf.__version__)\n",
        "print(keras.__version__)"
      ],
      "execution_count": null,
      "outputs": []
    },
    {
      "cell_type": "markdown",
      "metadata": {
        "id": "hzAe6sGXxjrb"
      },
      "source": [
        "Set the model to VGG16 and print model summary."
      ]
    },
    {
      "cell_type": "code",
      "metadata": {
        "id": "TJGDSOkm3vV8"
      },
      "source": [
        "model = VGG16()"
      ],
      "execution_count": null,
      "outputs": []
    },
    {
      "cell_type": "code",
      "metadata": {
        "id": "vYnqnVD7KigM"
      },
      "source": [
        "print(model.summary())"
      ],
      "execution_count": null,
      "outputs": []
    },
    {
      "cell_type": "markdown",
      "metadata": {
        "id": "IWNcH8ub7591"
      },
      "source": [
        "Load an image from the net."
      ]
    },
    {
      "cell_type": "code",
      "metadata": {
        "id": "PPvArYf6u-Eb"
      },
      "source": [
        "image=tf.keras.utils.get_file(origin='https://images.unsplash.com/photo-1532974297617-c0f05fe48bff?ixlib=rb-1.2.1&ixid=eyJhcHBfaWQiOjEyMDd9&auto=format&fit=crop&w=700&q=80',fname='car.jpg')"
      ],
      "execution_count": null,
      "outputs": []
    },
    {
      "cell_type": "markdown",
      "metadata": {
        "id": "pfXC8vJGzKfL"
      },
      "source": [
        "Resize image."
      ]
    },
    {
      "cell_type": "code",
      "metadata": {
        "id": "H1sovxqxgenV"
      },
      "source": [
        "image = load_img(image, target_size=(224, 224))"
      ],
      "execution_count": null,
      "outputs": []
    },
    {
      "cell_type": "markdown",
      "metadata": {
        "id": "LMjKFkHGzUMx"
      },
      "source": [
        "Show image"
      ]
    },
    {
      "cell_type": "code",
      "metadata": {
        "id": "UG6YUbzS8it6"
      },
      "source": [
        "plt.imshow(image)"
      ],
      "execution_count": null,
      "outputs": []
    },
    {
      "cell_type": "markdown",
      "metadata": {
        "id": "Ngqw7_615fsm"
      },
      "source": [
        "Convert image to Numpy array"
      ]
    },
    {
      "cell_type": "code",
      "metadata": {
        "id": "FZOBAefW60A8"
      },
      "source": [
        "image = tf.keras.preprocessing.image.img_to_array(image)"
      ],
      "execution_count": null,
      "outputs": []
    },
    {
      "cell_type": "markdown",
      "metadata": {
        "id": "lDpRqTGR5u1v"
      },
      "source": [
        "Reshape data for the model."
      ]
    },
    {
      "cell_type": "code",
      "metadata": {
        "id": "bLk4n7fB8SMw"
      },
      "source": [
        "image = image.reshape((1, image.shape[0], image.shape[1], image.shape[2]))"
      ],
      "execution_count": null,
      "outputs": []
    },
    {
      "cell_type": "markdown",
      "metadata": {
        "id": "nHe4HbMf6K_W"
      },
      "source": [
        "Preprocess data for the VGG model."
      ]
    },
    {
      "cell_type": "code",
      "metadata": {
        "id": "feU5PZsu6bGY"
      },
      "source": [
        "image = preprocess_input(image)"
      ],
      "execution_count": null,
      "outputs": []
    },
    {
      "cell_type": "markdown",
      "metadata": {
        "id": "yREzqm2O6shL"
      },
      "source": [
        "Predict the probability across all output classes."
      ]
    },
    {
      "cell_type": "code",
      "metadata": {
        "id": "T0FYsYub64cs"
      },
      "source": [
        "p = model.predict(image)"
      ],
      "execution_count": null,
      "outputs": []
    },
    {
      "cell_type": "markdown",
      "metadata": {
        "id": "U2jIbZA86-Wk"
      },
      "source": [
        "Convert the probabilities to class labels."
      ]
    },
    {
      "cell_type": "code",
      "metadata": {
        "id": "ro7GI2rM7I4x"
      },
      "source": [
        "label = decode_predictions(p)"
      ],
      "execution_count": null,
      "outputs": []
    },
    {
      "cell_type": "markdown",
      "metadata": {
        "id": "MP4C-eZ67eVn"
      },
      "source": [
        "Print the label."
      ]
    },
    {
      "cell_type": "code",
      "metadata": {
        "id": "uj4q_Ckz7h3a"
      },
      "source": [
        "print(label)"
      ],
      "execution_count": null,
      "outputs": []
    }
  ]
}